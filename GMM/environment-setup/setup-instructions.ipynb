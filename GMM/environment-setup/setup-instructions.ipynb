{
 "cells": [
  {
   "cell_type": "markdown",
   "metadata": {},
   "source": [
    "# Setup Environment\n",
    "Setup the python environment used for all of my GMM tasks here.\n",
    "\n",
    "**Steps:**\n",
    "1. Install **miniconda**, use default installation settings.\n",
    "2. You should have a program called **anaconda prompt** on your computer, search for it in the windows explorer.\n",
    "3. In anaconda prompt use: `cd <path_to_this_directory>`.\n",
    "4. Run: `conda env create -f environment.yml`.\n",
    "5. If you are using VS code and have python + jupyter extensions installed, after opening a jupyter notebook project you should be able to select **gmm-env**.\n",
    "6. Try it out with the code below:"
   ]
  },
  {
   "cell_type": "code",
   "execution_count": 1,
   "metadata": {},
   "outputs": [
    {
     "name": "stdout",
     "output_type": "stream",
     "text": [
      "Hello :) World!\n"
     ]
    }
   ],
   "source": [
    "print(\"Hello :) World!\")"
   ]
  },
  {
   "cell_type": "markdown",
   "metadata": {},
   "source": [
    "# Conda\n",
    "When installing Conda it is important, not to set path variables, instead use **anaconda prompt** (it can be found in the start menu), every time you use it, it sets up the environment variables before use, this way you avoid colision with other python distributions on your pc. `where pip`.\n",
    "\n",
    "\n",
    "## Common Conda Commands\n",
    "\n",
    "### Environments\n",
    "- Create: `conda create --name myenv`\n",
    "- **Activate:** `conda activate myenv`\n",
    "- Deativate`conda deactivate`\n",
    "- **List all environments:** `conda info --envs`\n",
    "- Delete environment: `conda remove --name myenv --all`\n",
    "- Create dependencies file from current configuration (bad approach): `conda env export > environment.yml`\n",
    "- **Create environment from the environment.yml file:** `conda env create -f environment.yml`\n",
    "- After changing environment.yml file update venv: `conda env update --file environment.yml --prune`\n",
    "\n",
    "### Packages\n",
    "- Install package: `conda install numpy=1.18`\n",
    "- Delete package: `conda remove numpy`\n",
    "- Update package: `conda update numpy`\n",
    "- Update all packages: `conda update --all`\n",
    "- List all packages: `conda list`\n",
    "- List packages of specific env: `conda list --name myenv`\n",
    "- Search for package: `conda search numpy`\n",
    "\n",
    "### Conda\n",
    "- Update Conda: `conda update conda`\n",
    "\n",
    "## d2l\n",
    "Important note: d2l package fails to install with the newest distributions of python, therefore I used python=3.9"
   ]
  }
 ],
 "metadata": {
  "kernelspec": {
   "display_name": "base",
   "language": "python",
   "name": "python3"
  },
  "language_info": {
   "codemirror_mode": {
    "name": "ipython",
    "version": 3
   },
   "file_extension": ".py",
   "mimetype": "text/x-python",
   "name": "python",
   "nbconvert_exporter": "python",
   "pygments_lexer": "ipython3",
   "version": "3.9.18"
  }
 },
 "nbformat": 4,
 "nbformat_minor": 2
}
